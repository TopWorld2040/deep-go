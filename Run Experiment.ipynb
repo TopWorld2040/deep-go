{
 "cells": [
  {
   "cell_type": "code",
   "execution_count": 1,
   "metadata": {
    "collapsed": false
   },
   "outputs": [],
   "source": [
    "require 'experiments'\n",
    "\n",
    "experiment = basicGoExperiment:new { \n",
    "    name = \"basicGoExperiment\",\n",
    "    dataset = GoDataset,\n",
    "    group = \"train\",\n",
    "    useCuda = true,\n",
    "    validationSize = 200,\n",
    "    iterations = 100,\n",
    "    numLayers = 3,\n",
    "    channelSize = 64,\n",
    "\n",
    "    batchSize = 64,\n",
    "    kernels = {5},\n",
    "    strides = {1},\n",
    "    channels = {37},\n",
    "\n",
    "    \n",
    "    rate = .01,\n",
    "    rateDecay = 1e-7,\n",
    "\n",
    "    criterion = nn.ClassNLLCriterion()\n",
    "}"
   ]
  },
  {
   "cell_type": "code",
   "execution_count": 2,
   "metadata": {
    "collapsed": false
   },
   "outputs": [
    {
     "data": {
      "text/plain": [
       "nn.Sequential {\n",
       "  [input -> (1) -> (2) -> (3) -> (4) -> (5) -> (6) -> (7) -> (8) -> (9) -> (10) -> (11) -> (12) -> (13) -> (14) -> (15) -> (16) -> (17) -> (18) -> (19) -> (20) -> output]\n",
       "  (1): nn.SpatialZeroPadding(l=2,r=2,t=2,b=2)\n",
       "  (2): nn.SpatialConvolutionMM(37 -> 64, 5x5)\n",
       "  (3): nn.Reshape(23104)\n",
       "  (4): nn.Add\n",
       "  (5): nn.Reshape(64x19x19)\n",
       "  (6): nn.ReLU\n",
       "  (7): nn.SpatialZeroPadding(l=1,r=1,t=1,b=1)\n",
       "  (8): nn.SpatialConvolutionMM(64 -> 64, 3x3)\n",
       "  (9): nn.Reshape(23104)\n",
       "  (10): nn.Add\n",
       "  (11): nn.Reshape(64x19x19)\n",
       "  (12): nn.ReLU\n",
       "  (13): nn.SpatialZeroPadding(l=1,r=1,t=1,b=1)\n",
       "  (14): nn.SpatialConvolutionMM(64 -> 1, 3x3)\n",
       "  (15): nn.Reshape(361)\n",
       "  (16): nn.Add\n",
       "  (17): nn.Reshape(1x19x19)\n",
       "  (18): nn.ReLU\n",
       "  (19): nn.Reshape(361)\n",
       "  (20): nn.LogSoftMax\n",
       "}\n",
       "{\n",
       "  gradInput : DoubleTensor - empty\n",
       "  modules : \n",
       "    {\n",
       "      1 : \n",
       "        nn.SpatialZeroPadding(l=2,r=2,t=2,b=2)\n",
       "        {\n",
       "          pad_l : 2\n",
       "          pad_t : 2\n",
       "          pad_b : 2\n",
       "          pad_r : 2\n",
       "          gradInput : DoubleTensor - empty\n",
       "          output : DoubleTensor - empty\n",
       "        }\n",
       "      2 : \n",
       "        nn.SpatialConvolutionMM(37 -> 64, 5x5)\n",
       "        {\n",
       "          dH : 1\n",
       "          dW : 1\n",
       "          nOutputPlane : 64\n",
       "          output : DoubleTensor - empty\n",
       "          gradInput : DoubleTensor - empty\n",
       "          fgradInput : DoubleTensor - empty\n",
       "          finput : DoubleTensor - empty\n",
       "          gradBias : DoubleTensor - size: 64\n",
       "          padH : 0\n",
       "          weight : DoubleTensor - size: 64x925\n",
       "          bias : DoubleTensor - size: 64\n",
       "          gradWeight : DoubleTensor - size: 64x925\n",
       "          padW : 0\n",
       "          nInputPlane : 37\n",
       "          kW : 5"
      ]
     },
     "execution_count": 2,
     "metadata": {},
     "output_type": "execute_result"
    },
    {
     "data": {
      "text/plain": [
       "\n",
       "          kH : 5\n",
       "        }\n",
       "      3 : \n",
       "        nn.Reshape(23104)\n",
       "        {\n",
       "          nelement : 23104\n",
       "          _input : DoubleTensor - empty\n",
       "          output : DoubleTensor - empty\n",
       "          gradInput : DoubleTensor - empty\n",
       "          size : LongStorage - size: 1\n",
       "          _gradOutput : DoubleTensor - empty\n",
       "          batchsize : LongStorage - size: 2\n",
       "        }\n",
       "      4 : \n",
       "        nn.Add\n",
       "        {\n",
       "          gradBias : DoubleTensor - size: 23104\n",
       "          output : DoubleTensor - empty\n",
       "          gradInput : DoubleTensor - empty\n",
       "          _ones : DoubleTensor - size: 1\n",
       "          bias : DoubleTensor - size: 23104\n",
       "        }\n",
       "      5 : \n",
       "        nn.Reshape(64x19x19)\n",
       "        {\n",
       "          nelement : 23104\n",
       "          _input : DoubleTensor - empty\n",
       "          output : DoubleTensor - empty\n",
       "          gradInput : DoubleTensor - empty\n",
       "          size : LongStorage - size: 3\n",
       "          _gradOutput : DoubleTensor - empty\n",
       "          batchsize : LongStorage - size: 4\n",
       "        }\n",
       "      6 : \n",
       "        nn.ReLU\n",
       "        {\n",
       "          inplace : false\n",
       "          threshold : 0\n",
       "          val : 0\n",
       "          output : DoubleTensor - empty\n",
       "          gradInput : DoubleTensor - empty\n",
       "        }\n",
       "      7 : \n",
       "        nn.SpatialZeroPadding(l=1,r=1,t=1,b=1)\n",
       "        {\n",
       "          pad_l : 1\n",
       "          pad_t : 1\n",
       "          pad_b : 1\n",
       "          pad_r : 1\n",
       "          gradInput : DoubleTensor - empty\n",
       "          output : DoubleTensor - empty\n",
       "        }\n",
       "      8 : \n",
       "        nn.SpatialConvolutionMM(64 -> 64, 3x3)\n",
       "        {\n",
       "          dH : 1\n",
       "          dW : 1\n",
       "          nOutputPlane : 64\n",
       "          output : DoubleTensor - empty\n",
       "          gradInput : DoubleTensor - empty\n",
       "          fgradInput : DoubleTensor - empty\n",
       "          finput : DoubleTensor - empty\n",
       "          gradBias : DoubleTensor - size: 64\n",
       "          padH : 0\n",
       "          weight : DoubleTensor - size: 64x576\n",
       "          bias : DoubleTensor - size: 64\n"
      ]
     },
     "execution_count": 2,
     "metadata": {},
     "output_type": "execute_result"
    },
    {
     "data": {
      "text/plain": [
       "          gradWeight : DoubleTensor - size: 64x576\n",
       "          padW : 0\n",
       "          nInputPlane : 64\n",
       "          kW : 3\n",
       "          kH : 3\n",
       "        }\n",
       "      9 : \n",
       "        nn.Reshape(23104)\n",
       "        {\n",
       "          nelement : 23104\n",
       "          _input : DoubleTensor - empty\n",
       "          output : DoubleTensor - empty\n",
       "          gradInput : DoubleTensor - empty\n",
       "          size : LongStorage - size: 1\n",
       "          _gradOutput : DoubleTensor - empty\n",
       "          batchsize : LongStorage - size: 2\n",
       "        }\n",
       "      10 : \n",
       "        nn.Add\n",
       "        {\n",
       "          gradBias : DoubleTensor - size: 23104\n",
       "          output : DoubleTensor - empty\n",
       "          gradInput : DoubleTensor - empty\n",
       "          _ones : DoubleTensor - size: 1\n",
       "          bias : DoubleTensor - size: 23104\n",
       "        }\n",
       "      11 : \n",
       "        nn.Reshape(64x19x19)\n",
       "        {\n",
       "          nelement : 23104\n",
       "          _input : DoubleTensor - empty\n",
       "          output : DoubleTensor - empty\n",
       "          gradInput : DoubleTensor - empty\n",
       "          size : LongStorage - size: 3\n",
       "          _gradOutput : DoubleTensor - empty\n",
       "          batchsize : LongStorage - size: 4\n",
       "        }\n",
       "      12 : \n",
       "        nn.ReLU\n",
       "        {\n",
       "          inplace : false\n",
       "          threshold : 0\n",
       "          val : 0\n",
       "          output : DoubleTensor - empty\n",
       "          gradInput : DoubleTensor - empty\n",
       "        }\n",
       "      13 : \n",
       "        nn.SpatialZeroPadding(l=1,r=1,t=1,b=1)\n",
       "        {\n",
       "          pad_l : 1\n",
       "          pad_t : 1\n",
       "          pad_b : 1\n",
       "          pad_r : 1\n",
       "          gradInput : DoubleTensor - empty\n",
       "          output : DoubleTensor - empty\n",
       "        }\n",
       "      14 : \n",
       "        nn.SpatialConvolutionMM(64 -> 1, 3x3)\n",
       "        {\n",
       "          dH : 1\n",
       "          dW : 1\n",
       "          nOutputPlane : 1\n",
       "          output : DoubleTensor - empty\n"
      ]
     },
     "execution_count": 2,
     "metadata": {},
     "output_type": "execute_result"
    },
    {
     "data": {
      "text/plain": [
       "          gradInput : DoubleTensor - empty\n",
       "          fgradInput : DoubleTensor - empty\n",
       "          finput : DoubleTensor - empty\n",
       "          gradBias : DoubleTensor - size: 1\n",
       "          padH : 0\n",
       "          weight : DoubleTensor - size: 1x576\n",
       "          bias : DoubleTensor - size: 1\n",
       "          gradWeight : DoubleTensor - size: 1x576\n",
       "          padW : 0\n",
       "          nInputPlane : 64\n",
       "          kW : 3\n",
       "          kH : 3\n",
       "        }\n",
       "      15 : \n",
       "        nn.Reshape(361)\n",
       "        {\n",
       "          nelement : 361\n",
       "          _input : DoubleTensor - empty\n",
       "          output : DoubleTensor - empty\n",
       "          gradInput : DoubleTensor - empty\n",
       "          size : LongStorage - size: 1\n",
       "          _gradOutput : DoubleTensor - empty\n",
       "          batchsize : LongStorage - size: 2\n",
       "        }\n",
       "      16 : \n",
       "        nn.Add\n",
       "        {\n",
       "          gradBias : DoubleTensor - size: 361\n",
       "          output : DoubleTensor - empty\n",
       "          gradInput : DoubleTensor - empty\n",
       "          _ones : DoubleTensor - size: 1\n",
       "          bias : DoubleTensor - size: 361\n",
       "        }\n",
       "      17 : \n",
       "        nn.Reshape(1x19x19)\n",
       "        {\n",
       "          nelement : 361\n",
       "          _input : DoubleTensor - empty\n",
       "          output : DoubleTensor - empty\n",
       "          gradInput : DoubleTensor - empty\n",
       "          size : LongStorage - size: 3\n",
       "          _gradOutput : DoubleTensor - empty\n",
       "          batchsize : LongStorage - size: 4\n",
       "        }\n",
       "      18 : \n",
       "        nn.ReLU\n",
       "        {\n",
       "          inplace : false\n",
       "          threshold : 0\n",
       "          val : 0\n",
       "          output : DoubleTensor - empty\n",
       "          gradInput : DoubleTensor - empty\n",
       "        }\n",
       "      19 : \n",
       "        nn.Reshape(361)\n",
       "        {\n",
       "          nelement : 361\n",
       "          _input : DoubleTensor - empty\n",
       "          output : DoubleTensor - empty\n",
       "          gradInput : DoubleTensor - empty\n",
       "          size : LongStorage - size: 1\n",
       "          _gradOutput : DoubleTensor - empty\n"
      ]
     },
     "execution_count": 2,
     "metadata": {},
     "output_type": "execute_result"
    },
    {
     "data": {
      "text/plain": [
       "          batchsize : LongStorage - size: 2\n",
       "        }\n",
       "      20 : \n",
       "        nn.LogSoftMax\n",
       "        {\n",
       "          gradInput : DoubleTensor - empty\n",
       "          output : DoubleTensor - empty\n",
       "        }\n",
       "    }\n",
       "  output : DoubleTensor - empty\n",
       "}\n"
      ]
     },
     "execution_count": 2,
     "metadata": {},
     "output_type": "execute_result"
    },
    {
     "data": {
      "text/plain": [
       "\n"
      ]
     },
     "execution_count": 2,
     "metadata": {},
     "output_type": "execute_result"
    }
   ],
   "source": [
    "experiment:init()"
   ]
  },
  {
   "cell_type": "code",
   "execution_count": 3,
   "metadata": {
    "collapsed": false
   },
   "outputs": [
    {
     "ename": "./train.lua:58: attempt to index global 'cudaInput' (a nil value)\nstack traceback:\n\t./train.lua:58: in function 'train'\n\t./experiments.lua:58: in function 'f'\n\t[string \"local f = function() return experiment:run{it...\"]:1: in main chunk\n\t[C]: in function 'xpcall'\n\t/home/ubuntu/torch/install/share/lua/5.1/itorch/main.lua:179: in function </home/ubuntu/torch/install/share/lua/5.1/itorch/main.lua:143>\n\t/home/ubuntu/torch/install/share/lua/5.1/lzmq/poller.lua:75: in function 'poll'\n\t/home/ubuntu/torch/install/share/lua/5.1/lzmq/impl/loop.lua:307: in function 'poll'\n\t/home/ubuntu/torch/install/share/lua/5.1/lzmq/impl/loop.lua:325: in function 'sleep_ex'\n\t/home/ubuntu/torch/install/share/lua/5.1/lzmq/impl/loop.lua:370: in function 'start'\n\t/home/ubuntu/torch/install/share/lua/5.1/itorch/main.lua:350: in main chunk\n\t[C]: in function 'require'\n\t(command line):1: in main chunk\n\t[C]: at 0x00406670",
     "evalue": "",
     "output_type": "error",
     "traceback": [
      "./train.lua:58: attempt to index global 'cudaInput' (a nil value)\nstack traceback:\n\t./train.lua:58: in function 'train'\n\t./experiments.lua:58: in function 'f'\n\t[string \"local f = function() return experiment:run{it...\"]:1: in main chunk\n\t[C]: in function 'xpcall'\n\t/home/ubuntu/torch/install/share/lua/5.1/itorch/main.lua:179: in function </home/ubuntu/torch/install/share/lua/5.1/itorch/main.lua:143>\n\t/home/ubuntu/torch/install/share/lua/5.1/lzmq/poller.lua:75: in function 'poll'\n\t/home/ubuntu/torch/install/share/lua/5.1/lzmq/impl/loop.lua:307: in function 'poll'\n\t/home/ubuntu/torch/install/share/lua/5.1/lzmq/impl/loop.lua:325: in function 'sleep_ex'\n\t/home/ubuntu/torch/install/share/lua/5.1/lzmq/impl/loop.lua:370: in function 'start'\n\t/home/ubuntu/torch/install/share/lua/5.1/itorch/main.lua:350: in main chunk\n\t[C]: in function 'require'\n\t(command line):1: in main chunk\n\t[C]: at 0x00406670"
     ]
    }
   ],
   "source": [
    "experiment:run{iters=100}"
   ]
  },
  {
   "cell_type": "code",
   "execution_count": 4,
   "metadata": {
    "collapsed": false
   },
   "outputs": [
    {
     "data": {
      "text/plain": [
       "true\t\n"
      ]
     },
     "execution_count": 4,
     "metadata": {},
     "output_type": "execute_result"
    }
   ],
   "source": [
    "require 'godata'"
   ]
  },
  {
   "cell_type": "code",
   "execution_count": 5,
   "metadata": {
    "collapsed": false
   },
   "outputs": [
    {
     "data": {
      "text/plain": [
       "{\n",
       "  input : DoubleTensor - size: 100x37x19x19\n",
       "  output : DoubleTensor - size: 100\n",
       "}\n"
      ]
     },
     "execution_count": 5,
     "metadata": {},
     "output_type": "execute_result"
    }
   ],
   "source": [
    "GoDataset:minibatch(\"train\", 100)"
   ]
  },
  {
   "cell_type": "code",
   "execution_count": null,
   "metadata": {
    "collapsed": true
   },
   "outputs": [],
   "source": []
  }
 ],
 "metadata": {
  "kernelspec": {
   "display_name": "iTorch",
   "language": "lua",
   "name": "itorch"
  },
  "language_info": {
   "name": "lua",
   "version": "20100"
  }
 },
 "nbformat": 4,
 "nbformat_minor": 0
}
