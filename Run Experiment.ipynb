{
 "cells": [
  {
   "cell_type": "code",
   "execution_count": 4,
   "metadata": {
    "collapsed": false
   },
   "outputs": [],
   "source": [
    "require 'model'\n",
    "--require 'train'\n",
    "require 'optimizer'\n",
    "require 'logging'\n",
    "require 'cunn'\n",
    "\n",
    "basicGoExperiment = { \n",
    "    name = \"basicGoExperiment\",\n",
    "    useCuda = false,\n",
    "    iterations = 100,\n",
    "    numLayers = 12,\n",
    "    channelSize = 64,\n",
    "\n",
    "    batchSize = 32,\n",
    "    kernels = {5},\n",
    "    strides = {1},\n",
    "    channels = {36},\n",
    "\n",
    "    rate = .01,\n",
    "    rateDecay = 1e-7,\n",
    "\n",
    "    criterion = nn.ClassNLLCriterion()\n",
    "}\n",
    "\n",
    "function getBasicModel(numLayers, kernels, channels) \n",
    "    smodel = nn.Sequential()\n",
    "    for layer = 1, numLayers do\n",
    "        local padding = (kernels[layer] - 1)/2\n",
    "        smodel:add(nn.SpatialZeroPadding(padding, padding, padding, padding))\n",
    "        smodel:add(nn.SpatialConvolutionMM(channels[layer], channels[layer+1], kernels[layer], kernels[layer]))\n",
    "\n",
    "        d1 = channels[layer+1]\n",
    "        d2 = 19\n",
    "        d3 = 19\n",
    "        smodel:add(nn.Reshape(d1*d2*d3))\n",
    "        smodel:add(nn.Add(d1*d2*d3))\n",
    "        smodel:add(nn.Reshape(d1, d2, d3))\n",
    "\n",
    "        smodel:add(nn.ReLU())\n",
    "    end\n",
    "    \n",
    "    smodel:add(nn.Reshape(19*19))\n",
    "    smodel:add(nn.LogSoftMax())\n",
    "    return smodel\n",
    "end\n",
    "\n",
    "function basicGoExperiment:init()\n",
    "    for i = 2, self.numLayers do\n",
    "        table.insert(self.kernels, 3)\n",
    "        table.insert(self.strides, 1)\n",
    "        table.insert(self.channels, self.channelSize)\n",
    "    end\n",
    "    table.insert(channels, 1)\n",
    "    \n",
    "    optimizer = SGD.new(self.rate, self.rateDecay)\n",
    "    model = getBasicModel(self.numLayers, self.kernels, self.channels)\n",
    "end\n",
    "\n",
    "function basicGoExperiment:run()\n",
    "    self.init()\n",
    "    \n",
    "    start_time = sys.clock()\n",
    "    train_cost = train(self.model, self.criterion, self.batchSize, self.iterations, self.optimizer, self.useCuda)\n",
    "    self.runningTime = sys.clock() - start_time\n",
    "\n",
    "    log(self)\n",
    "end "
   ]
  },
  {
   "cell_type": "code",
   "execution_count": null,
   "metadata": {
    "collapsed": true
   },
   "outputs": [],
   "source": []
  }
 ],
 "metadata": {
  "kernelspec": {
   "display_name": "iTorch",
   "language": "lua",
   "name": "itorch"
  },
  "language_info": {
   "name": "lua",
   "version": "20100"
  }
 },
 "nbformat": 4,
 "nbformat_minor": 0
}
