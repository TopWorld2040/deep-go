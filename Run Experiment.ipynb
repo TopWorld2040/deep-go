{
 "metadata": {
  "language": "lua",
  "name": "",
  "signature": "sha256:bedd7dac917e8e412cdd95e6c453aefdc79985f18481631529b230af1d33efc0"
 },
 "nbformat": 3,
 "nbformat_minor": 0,
 "worksheets": [
  {
   "cells": [
    {
     "cell_type": "code",
     "collapsed": false,
     "input": [
      "require 'model'\n",
      "require 'optimizer'\n",
      "require 'train'\n",
      "require 'logging'\n",
      "require 'cunn'\n",
      "require 'experiments'\n",
      "\n",
      "experiment = basicGoExperiment:new { \n",
      "    name = \"basicGoExperiment\",\n",
      "    dataset = Dataset,\n",
      "    group = \"train\",\n",
      "    iterations = 10000,\n",
      "    numLayers = 3,\n",
      "    channelSize = 64,\n",
      "\n",
      "    batchSize = 32,\n",
      "    kernels = {5},\n",
      "    strides = {1},\n",
      "    channels = {37},\n",
      "\n",
      "    rate = .01,\n",
      "    rateDecay = 1e-7,\n",
      "\n",
      "    criterion = nn.ClassNLLCriterion()\n",
      "}"
     ],
     "language": "python",
     "metadata": {},
     "outputs": [],
     "prompt_number": 1
    },
    {
     "cell_type": "code",
     "collapsed": false,
     "input": [
      "experiment:run()\n"
     ],
     "language": "python",
     "metadata": {},
     "outputs": [
      {
       "metadata": {},
       "output_type": "pyout",
       "prompt_number": 2,
       "text": [
        "5.8894387158707\t\n"
       ]
      },
      {
       "metadata": {},
       "output_type": "pyout",
       "prompt_number": 2,
       "text": [
        "\n"
       ]
      }
     ],
     "prompt_number": 2
    }
   ],
   "metadata": {}
  }
 ]
}
