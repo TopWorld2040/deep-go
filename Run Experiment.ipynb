{
 "cells": [
  {
   "cell_type": "code",
   "execution_count": 1,
   "metadata": {
    "collapsed": false
   },
   "outputs": [],
   "source": [
    "require 'experiments'\n",
    "\n",
    "experiment = basicGoExperiment:new { \n",
    "    name = \"basicGoExperiment\",\n",
    "    dataset = ToyDataset,\n",
    "    group = \"toy\",\n",
    "    useCuda = false,\n",
    "    validationSize = 200,\n",
    "    iterations = 100,\n",
    "    numLayers = 3,\n",
    "    channelSize = 64,\n",
    "\n",
    "    batchSize = 64,\n",
    "    kernels = {5},\n",
    "    strides = {1},\n",
    "    channels = {37},\n",
    "\n",
    "    \n",
    "    rate = .01,\n",
    "    rateDecay = 1e-7,\n",
    "\n",
    "    criterion = nn.ClassNLLCriterion()\n",
    "}"
   ]
  },
  {
   "cell_type": "code",
   "execution_count": 2,
   "metadata": {
    "collapsed": false
   },
   "outputs": [
    {
     "data": {
      "text/plain": [
       "\n"
      ]
     },
     "execution_count": 2,
     "metadata": {},
     "output_type": "execute_result"
    }
   ],
   "source": [
    "experiment:init()"
   ]
  },
  {
   "cell_type": "code",
   "execution_count": 8,
   "metadata": {
    "collapsed": false
   },
   "outputs": [
    {
     "data": {
      "text/plain": [
       "warning: could not load nccl, falling back to default communication\t\n"
      ]
     },
     "execution_count": 8,
     "metadata": {},
     "output_type": "execute_result"
    },
    {
     "data": {
      "text/plain": [
       "training\t5.8893920993952\t(samples per second 792.43406898343)\t\n"
      ]
     },
     "execution_count": 8,
     "metadata": {},
     "output_type": "execute_result"
    },
    {
     "data": {
      "text/plain": [
       "training\t5.8888201356273\t(samples per second 722.8871163199)\t\n"
      ]
     },
     "execution_count": 8,
     "metadata": {},
     "output_type": "execute_result"
    },
    {
     "data": {
      "text/plain": [
       "training\t5.8882994226972\t(samples per second 781.69905649388)\t\n"
      ]
     },
     "execution_count": 8,
     "metadata": {},
     "output_type": "execute_result"
    },
    {
     "data": {
      "text/plain": [
       "training\t5.8879769441798\t(samples per second 767.24780774464)\t"
      ]
     },
     "execution_count": 8,
     "metadata": {},
     "output_type": "execute_result"
    },
    {
     "data": {
      "text/plain": [
       "\n"
      ]
     },
     "execution_count": 8,
     "metadata": {},
     "output_type": "execute_result"
    },
    {
     "data": {
      "text/plain": [
       "\n"
      ]
     },
     "execution_count": 8,
     "metadata": {},
     "output_type": "execute_result"
    }
   ],
   "source": [
    "experiment:run{iters=40, useCuda=true, numGPUs=1}"
   ]
  },
  {
   "cell_type": "code",
   "execution_count": null,
   "metadata": {
    "collapsed": true
   },
   "outputs": [],
   "source": []
  }
 ],
 "metadata": {
  "kernelspec": {
   "display_name": "iTorch",
   "language": "lua",
   "name": "itorch"
  },
  "language_info": {
   "name": "lua",
   "version": "20100"
  }
 },
 "nbformat": 4,
 "nbformat_minor": 0
}
